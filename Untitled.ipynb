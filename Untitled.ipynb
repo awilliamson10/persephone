{
 "cells": [
  {
   "cell_type": "code",
   "execution_count": 40,
   "id": "5545b361",
   "metadata": {},
   "outputs": [],
   "source": [
    "from etherscan import Etherscan\n",
    "import os\n",
    "import time\n",
    "from dotenv import load_dotenv\n",
    "load_dotenv()\n",
    "from web3.auto.infura import w3\n",
    "from ens import ENS\n",
    "ns = ENS.fromWeb3(w3)"
   ]
  },
  {
   "cell_type": "code",
   "execution_count": 41,
   "id": "c9127e0b",
   "metadata": {},
   "outputs": [],
   "source": [
    "def ensName(addr):\n",
    "    ens = ns.name(addr)\n",
    "    if ens == None:\n",
    "        return addr\n",
    "    else:\n",
    "        return ens"
   ]
  },
  {
   "cell_type": "code",
   "execution_count": 42,
   "id": "0efb5a6d",
   "metadata": {},
   "outputs": [],
   "source": [
    "eth = Etherscan(os.environ['ETHERSCAN_API_KEY'])"
   ]
  },
  {
   "cell_type": "code",
   "execution_count": 43,
   "id": "77560415",
   "metadata": {},
   "outputs": [],
   "source": [
    "watch_list = ['0x2d407ddb06311396fe14d4b49da5f0471447d45c']"
   ]
  },
  {
   "cell_type": "code",
   "execution_count": 44,
   "id": "94b49999",
   "metadata": {},
   "outputs": [],
   "source": [
    "last_block = eth.get_block_number_by_timestamp(int(time.time()), \"before\")"
   ]
  },
  {
   "cell_type": "code",
   "execution_count": 48,
   "id": "d9f2d389",
   "metadata": {},
   "outputs": [],
   "source": [
    "new_updates = []\n",
    "for addr in watch_list:\n",
    "    try:\n",
    "        new_updates.append(eth.get_erc20_token_transfer_events_by_address(addr, last_block, 'latest', 'desc'))\n",
    "    except AssertionError as error:\n",
    "        continue\n",
    "if len(new_updates) > 0:\n",
    "    last_block = int(new_updates[0][0]['blockNumber'])\n",
    "for update in new_updates:\n",
    "    for txn in update:\n",
    "        print(f\"Transfer from {ensName(txn['from'])} to {ensName(txn['to'])} of {float(txn['value'])/(10**int(txn['tokenDecimal']))} {txn['tokenSymbol']} on Ethereum\")\n"
   ]
  },
  {
   "cell_type": "code",
   "execution_count": null,
   "id": "d2f1fb1e",
   "metadata": {},
   "outputs": [],
   "source": []
  }
 ],
 "metadata": {
  "kernelspec": {
   "display_name": "Python 3 (ipykernel)",
   "language": "python",
   "name": "python3"
  },
  "language_info": {
   "codemirror_mode": {
    "name": "ipython",
    "version": 3
   },
   "file_extension": ".py",
   "mimetype": "text/x-python",
   "name": "python",
   "nbconvert_exporter": "python",
   "pygments_lexer": "ipython3",
   "version": "3.9.7"
  }
 },
 "nbformat": 4,
 "nbformat_minor": 5
}
